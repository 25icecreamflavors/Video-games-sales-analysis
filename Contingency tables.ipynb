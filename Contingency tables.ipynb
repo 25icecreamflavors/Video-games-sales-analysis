{
 "cells": [
  {
   "cell_type": "markdown",
   "metadata": {},
   "source": [
    "<center><h3> Домашнее задание 4: Таблицы сопряженности </h3></center>"
   ]
  },
  {
   "cell_type": "code",
   "execution_count": 1,
   "metadata": {},
   "outputs": [],
   "source": [
    "import numpy as np\n",
    "import pandas as pd\n",
    "import matplotlib.pyplot as plt\n",
    "import seaborn as sb"
   ]
  },
  {
   "cell_type": "code",
   "execution_count": 2,
   "metadata": {},
   "outputs": [
    {
     "data": {
      "text/html": [
       "<div>\n",
       "<style scoped>\n",
       "    .dataframe tbody tr th:only-of-type {\n",
       "        vertical-align: middle;\n",
       "    }\n",
       "\n",
       "    .dataframe tbody tr th {\n",
       "        vertical-align: top;\n",
       "    }\n",
       "\n",
       "    .dataframe thead th {\n",
       "        text-align: right;\n",
       "    }\n",
       "</style>\n",
       "<table border=\"1\" class=\"dataframe\">\n",
       "  <thead>\n",
       "    <tr style=\"text-align: right;\">\n",
       "      <th></th>\n",
       "      <th>Rank</th>\n",
       "      <th>Platform</th>\n",
       "      <th>Year</th>\n",
       "      <th>Genre</th>\n",
       "      <th>Publisher</th>\n",
       "      <th>NA_Sales</th>\n",
       "      <th>EU_Sales</th>\n",
       "      <th>JP_Sales</th>\n",
       "      <th>Other_Sales</th>\n",
       "      <th>Global_Sales</th>\n",
       "    </tr>\n",
       "  </thead>\n",
       "  <tbody>\n",
       "    <tr>\n",
       "      <th>Wii Sports</th>\n",
       "      <td>1</td>\n",
       "      <td>Wii</td>\n",
       "      <td>2006.0</td>\n",
       "      <td>Sports</td>\n",
       "      <td>Nintendo</td>\n",
       "      <td>41.49</td>\n",
       "      <td>29.02</td>\n",
       "      <td>3.77</td>\n",
       "      <td>8.46</td>\n",
       "      <td>82.74</td>\n",
       "    </tr>\n",
       "    <tr>\n",
       "      <th>Super Mario Bros.</th>\n",
       "      <td>2</td>\n",
       "      <td>NES</td>\n",
       "      <td>1985.0</td>\n",
       "      <td>Platform</td>\n",
       "      <td>Nintendo</td>\n",
       "      <td>29.08</td>\n",
       "      <td>3.58</td>\n",
       "      <td>6.81</td>\n",
       "      <td>0.77</td>\n",
       "      <td>40.24</td>\n",
       "    </tr>\n",
       "    <tr>\n",
       "      <th>Mario Kart Wii</th>\n",
       "      <td>3</td>\n",
       "      <td>Wii</td>\n",
       "      <td>2008.0</td>\n",
       "      <td>Racing</td>\n",
       "      <td>Nintendo</td>\n",
       "      <td>15.85</td>\n",
       "      <td>12.88</td>\n",
       "      <td>3.79</td>\n",
       "      <td>3.31</td>\n",
       "      <td>35.82</td>\n",
       "    </tr>\n",
       "    <tr>\n",
       "      <th>Wii Sports Resort</th>\n",
       "      <td>4</td>\n",
       "      <td>Wii</td>\n",
       "      <td>2009.0</td>\n",
       "      <td>Sports</td>\n",
       "      <td>Nintendo</td>\n",
       "      <td>15.75</td>\n",
       "      <td>11.01</td>\n",
       "      <td>3.28</td>\n",
       "      <td>2.96</td>\n",
       "      <td>33.00</td>\n",
       "    </tr>\n",
       "    <tr>\n",
       "      <th>Pokemon Red/Pokemon Blue</th>\n",
       "      <td>5</td>\n",
       "      <td>GB</td>\n",
       "      <td>1996.0</td>\n",
       "      <td>Role-Playing</td>\n",
       "      <td>Nintendo</td>\n",
       "      <td>11.27</td>\n",
       "      <td>8.89</td>\n",
       "      <td>10.22</td>\n",
       "      <td>1.00</td>\n",
       "      <td>31.37</td>\n",
       "    </tr>\n",
       "    <tr>\n",
       "      <th>...</th>\n",
       "      <td>...</td>\n",
       "      <td>...</td>\n",
       "      <td>...</td>\n",
       "      <td>...</td>\n",
       "      <td>...</td>\n",
       "      <td>...</td>\n",
       "      <td>...</td>\n",
       "      <td>...</td>\n",
       "      <td>...</td>\n",
       "      <td>...</td>\n",
       "    </tr>\n",
       "    <tr>\n",
       "      <th>Crash Bandicoot 2: Cortex Strikes Back</th>\n",
       "      <td>96</td>\n",
       "      <td>PS</td>\n",
       "      <td>1997.0</td>\n",
       "      <td>Platform</td>\n",
       "      <td>Sony Computer Entertainment</td>\n",
       "      <td>3.78</td>\n",
       "      <td>2.17</td>\n",
       "      <td>1.31</td>\n",
       "      <td>0.31</td>\n",
       "      <td>7.58</td>\n",
       "    </tr>\n",
       "    <tr>\n",
       "      <th>Super Mario Bros. 2</th>\n",
       "      <td>97</td>\n",
       "      <td>NES</td>\n",
       "      <td>1988.0</td>\n",
       "      <td>Platform</td>\n",
       "      <td>Nintendo</td>\n",
       "      <td>5.39</td>\n",
       "      <td>1.18</td>\n",
       "      <td>0.70</td>\n",
       "      <td>0.19</td>\n",
       "      <td>7.46</td>\n",
       "    </tr>\n",
       "    <tr>\n",
       "      <th>Super Smash Bros. for Wii U and 3DS</th>\n",
       "      <td>98</td>\n",
       "      <td>3DS</td>\n",
       "      <td>2014.0</td>\n",
       "      <td>Fighting</td>\n",
       "      <td>Nintendo</td>\n",
       "      <td>3.24</td>\n",
       "      <td>1.35</td>\n",
       "      <td>2.42</td>\n",
       "      <td>0.43</td>\n",
       "      <td>7.45</td>\n",
       "    </tr>\n",
       "    <tr>\n",
       "      <th>Call of Duty: World at War</th>\n",
       "      <td>99</td>\n",
       "      <td>X360</td>\n",
       "      <td>2008.0</td>\n",
       "      <td>Shooter</td>\n",
       "      <td>Activision</td>\n",
       "      <td>4.79</td>\n",
       "      <td>1.90</td>\n",
       "      <td>0.00</td>\n",
       "      <td>0.69</td>\n",
       "      <td>7.37</td>\n",
       "    </tr>\n",
       "    <tr>\n",
       "      <th>Battlefield 3</th>\n",
       "      <td>100</td>\n",
       "      <td>X360</td>\n",
       "      <td>2011.0</td>\n",
       "      <td>Shooter</td>\n",
       "      <td>Electronic Arts</td>\n",
       "      <td>4.46</td>\n",
       "      <td>2.13</td>\n",
       "      <td>0.06</td>\n",
       "      <td>0.69</td>\n",
       "      <td>7.34</td>\n",
       "    </tr>\n",
       "  </tbody>\n",
       "</table>\n",
       "<p>100 rows × 10 columns</p>\n",
       "</div>"
      ],
      "text/plain": [
       "                                        Rank Platform    Year         Genre  \\\n",
       "Wii Sports                                 1      Wii  2006.0        Sports   \n",
       "Super Mario Bros.                          2      NES  1985.0      Platform   \n",
       "Mario Kart Wii                             3      Wii  2008.0        Racing   \n",
       "Wii Sports Resort                          4      Wii  2009.0        Sports   \n",
       "Pokemon Red/Pokemon Blue                   5       GB  1996.0  Role-Playing   \n",
       "...                                      ...      ...     ...           ...   \n",
       "Crash Bandicoot 2: Cortex Strikes Back    96       PS  1997.0      Platform   \n",
       "Super Mario Bros. 2                       97      NES  1988.0      Platform   \n",
       "Super Smash Bros. for Wii U and 3DS       98      3DS  2014.0      Fighting   \n",
       "Call of Duty: World at War                99     X360  2008.0       Shooter   \n",
       "Battlefield 3                            100     X360  2011.0       Shooter   \n",
       "\n",
       "                                                          Publisher  NA_Sales  \\\n",
       "Wii Sports                                                 Nintendo     41.49   \n",
       "Super Mario Bros.                                          Nintendo     29.08   \n",
       "Mario Kart Wii                                             Nintendo     15.85   \n",
       "Wii Sports Resort                                          Nintendo     15.75   \n",
       "Pokemon Red/Pokemon Blue                                   Nintendo     11.27   \n",
       "...                                                             ...       ...   \n",
       "Crash Bandicoot 2: Cortex Strikes Back  Sony Computer Entertainment      3.78   \n",
       "Super Mario Bros. 2                                        Nintendo      5.39   \n",
       "Super Smash Bros. for Wii U and 3DS                        Nintendo      3.24   \n",
       "Call of Duty: World at War                               Activision      4.79   \n",
       "Battlefield 3                                       Electronic Arts      4.46   \n",
       "\n",
       "                                        EU_Sales  JP_Sales  Other_Sales  \\\n",
       "Wii Sports                                 29.02      3.77         8.46   \n",
       "Super Mario Bros.                           3.58      6.81         0.77   \n",
       "Mario Kart Wii                             12.88      3.79         3.31   \n",
       "Wii Sports Resort                          11.01      3.28         2.96   \n",
       "Pokemon Red/Pokemon Blue                    8.89     10.22         1.00   \n",
       "...                                          ...       ...          ...   \n",
       "Crash Bandicoot 2: Cortex Strikes Back      2.17      1.31         0.31   \n",
       "Super Mario Bros. 2                         1.18      0.70         0.19   \n",
       "Super Smash Bros. for Wii U and 3DS         1.35      2.42         0.43   \n",
       "Call of Duty: World at War                  1.90      0.00         0.69   \n",
       "Battlefield 3                               2.13      0.06         0.69   \n",
       "\n",
       "                                        Global_Sales  \n",
       "Wii Sports                                     82.74  \n",
       "Super Mario Bros.                              40.24  \n",
       "Mario Kart Wii                                 35.82  \n",
       "Wii Sports Resort                              33.00  \n",
       "Pokemon Red/Pokemon Blue                       31.37  \n",
       "...                                              ...  \n",
       "Crash Bandicoot 2: Cortex Strikes Back          7.58  \n",
       "Super Mario Bros. 2                             7.46  \n",
       "Super Smash Bros. for Wii U and 3DS             7.45  \n",
       "Call of Duty: World at War                      7.37  \n",
       "Battlefield 3                                   7.34  \n",
       "\n",
       "[100 rows x 10 columns]"
      ]
     },
     "execution_count": 2,
     "metadata": {},
     "output_type": "execute_result"
    }
   ],
   "source": [
    "data = pd.read_csv(\"games.csv\")\n",
    "data = data.set_index(\"Name\")\n",
    "data.index.name = None\n",
    "data"
   ]
  },
  {
   "cell_type": "markdown",
   "metadata": {},
   "source": [
    "<center><h3> Сформируем три номинальных признака: </h3></center>"
   ]
  },
  {
   "cell_type": "code",
   "execution_count": 3,
   "metadata": {},
   "outputs": [
    {
     "data": {
      "image/png": "[encoded data removed]",
      "text/plain": [
       "<Figure size 432x288 with 1 Axes>"
      ]
     },
     "metadata": {
      "needs_background": "light"
     },
     "output_type": "display_data"
    }
   ],
   "source": [
    "f6 = data.iloc[:, 5] # Выберем 6 признак\n",
    "plt.hist(f6, 60) # Построим гистограмму\n",
    "plt.axvline(12, c='r') #Проведём черту\n",
    "plt.axvline(7, c='r')\n",
    "plt.title(\"North America sales\") # Заголовок графика\n",
    "plt.show()"
   ]
  },
  {
   "cell_type": "code",
   "execution_count": 4,
   "metadata": {},
   "outputs": [
    {
     "data": {
      "image/png": "[encoded data removed]",
      "text/plain": [
       "<Figure size 432x288 with 1 Axes>"
      ]
     },
     "metadata": {
      "needs_background": "light"
     },
     "output_type": "display_data"
    }
   ],
   "source": [
    "f7 = data.iloc[:, 6]\n",
    "plt.hist(f7, 60)\n",
    "plt.axvline(0.8, c='r')\n",
    "plt.axvline(6.5, c='r')\n",
    "plt.title(\"Europe sales\")\n",
    "plt.show()"
   ]
  },
  {
   "cell_type": "code",
   "execution_count": 5,
   "metadata": {},
   "outputs": [
    {
     "data": {
      "image/png": "[encoded data removed]",
      "text/plain": [
       "<Figure size 432x288 with 1 Axes>"
      ]
     },
     "metadata": {
      "needs_background": "light"
     },
     "output_type": "display_data"
    }
   ],
   "source": [
    "f8 = data.iloc[:, 7]\n",
    "plt.hist(f8, 60)\n",
    "plt.axvline(1.1, c='r')\n",
    "plt.axvline(4, c='r')\n",
    "plt.title(\"Japan sales\")\n",
    "plt.show()"
   ]
  },
  {
   "cell_type": "markdown",
   "metadata": {},
   "source": [
    "<center><h3> Начнём работу с матрицами: </h3></center>"
   ]
  },
  {
   "cell_type": "markdown",
   "metadata": {},
   "source": [
    "Получим 3 признака и построим нужные нам таблицы сопряжённости (x1 и x2, x1 и x3):"
   ]
  },
  {
   "cell_type": "code",
   "execution_count": 6,
   "metadata": {},
   "outputs": [],
   "source": [
    "x1 = f6_cut = pd.cut(f6, [0, 7, 12, 45], labels=['A1', 'A2', 'A3'])\n",
    "x2 = f7_cut = pd.cut(f7, [0, 0.8, 6.5, 30], labels=['E1', 'E2', 'E3'])\n",
    "x3 = f8_cut = pd.cut(f8, [0, 1.1, 4, 15], labels=['J1', 'J2', 'J3'])"
   ]
  },
  {
   "cell_type": "code",
   "execution_count": 7,
   "metadata": {},
   "outputs": [
    {
     "data": {
      "text/html": [
       "<div>\n",
       "<style scoped>\n",
       "    .dataframe tbody tr th:only-of-type {\n",
       "        vertical-align: middle;\n",
       "    }\n",
       "\n",
       "    .dataframe tbody tr th {\n",
       "        vertical-align: top;\n",
       "    }\n",
       "\n",
       "    .dataframe thead th {\n",
       "        text-align: right;\n",
       "    }\n",
       "</style>\n",
       "<table border=\"1\" class=\"dataframe\">\n",
       "  <thead>\n",
       "    <tr style=\"text-align: right;\">\n",
       "      <th>EU_Sales</th>\n",
       "      <th>E1</th>\n",
       "      <th>E2</th>\n",
       "      <th>E3</th>\n",
       "      <th>All</th>\n",
       "    </tr>\n",
       "    <tr>\n",
       "      <th>NA_Sales</th>\n",
       "      <th></th>\n",
       "      <th></th>\n",
       "      <th></th>\n",
       "      <th></th>\n",
       "    </tr>\n",
       "  </thead>\n",
       "  <tbody>\n",
       "    <tr>\n",
       "      <th>A1</th>\n",
       "      <td>1</td>\n",
       "      <td>68</td>\n",
       "      <td>1</td>\n",
       "      <td>70</td>\n",
       "    </tr>\n",
       "    <tr>\n",
       "      <th>A2</th>\n",
       "      <td>2</td>\n",
       "      <td>11</td>\n",
       "      <td>7</td>\n",
       "      <td>20</td>\n",
       "    </tr>\n",
       "    <tr>\n",
       "      <th>A3</th>\n",
       "      <td>1</td>\n",
       "      <td>4</td>\n",
       "      <td>5</td>\n",
       "      <td>10</td>\n",
       "    </tr>\n",
       "    <tr>\n",
       "      <th>All</th>\n",
       "      <td>4</td>\n",
       "      <td>83</td>\n",
       "      <td>13</td>\n",
       "      <td>100</td>\n",
       "    </tr>\n",
       "  </tbody>\n",
       "</table>\n",
       "</div>"
      ],
      "text/plain": [
       "EU_Sales  E1  E2  E3  All\n",
       "NA_Sales                 \n",
       "A1         1  68   1   70\n",
       "A2         2  11   7   20\n",
       "A3         1   4   5   10\n",
       "All        4  83  13  100"
      ]
     },
     "execution_count": 7,
     "metadata": {},
     "output_type": "execute_result"
    }
   ],
   "source": [
    "crosstab_x2 = pd.crosstab(x1, x2, margins=True)\n",
    "crosstab_x2"
   ]
  },
  {
   "cell_type": "code",
   "execution_count": 8,
   "metadata": {},
   "outputs": [
    {
     "data": {
      "text/html": [
       "<div>\n",
       "<style scoped>\n",
       "    .dataframe tbody tr th:only-of-type {\n",
       "        vertical-align: middle;\n",
       "    }\n",
       "\n",
       "    .dataframe tbody tr th {\n",
       "        vertical-align: top;\n",
       "    }\n",
       "\n",
       "    .dataframe thead th {\n",
       "        text-align: right;\n",
       "    }\n",
       "</style>\n",
       "<table border=\"1\" class=\"dataframe\">\n",
       "  <thead>\n",
       "    <tr style=\"text-align: right;\">\n",
       "      <th>JP_Sales</th>\n",
       "      <th>J1</th>\n",
       "      <th>J2</th>\n",
       "      <th>J3</th>\n",
       "      <th>All</th>\n",
       "    </tr>\n",
       "    <tr>\n",
       "      <th>NA_Sales</th>\n",
       "      <th></th>\n",
       "      <th></th>\n",
       "      <th></th>\n",
       "      <th></th>\n",
       "    </tr>\n",
       "  </thead>\n",
       "  <tbody>\n",
       "    <tr>\n",
       "      <th>A1</th>\n",
       "      <td>29</td>\n",
       "      <td>30</td>\n",
       "      <td>8</td>\n",
       "      <td>67</td>\n",
       "    </tr>\n",
       "    <tr>\n",
       "      <th>A2</th>\n",
       "      <td>10</td>\n",
       "      <td>4</td>\n",
       "      <td>5</td>\n",
       "      <td>19</td>\n",
       "    </tr>\n",
       "    <tr>\n",
       "      <th>A3</th>\n",
       "      <td>2</td>\n",
       "      <td>5</td>\n",
       "      <td>3</td>\n",
       "      <td>10</td>\n",
       "    </tr>\n",
       "    <tr>\n",
       "      <th>All</th>\n",
       "      <td>41</td>\n",
       "      <td>39</td>\n",
       "      <td>16</td>\n",
       "      <td>96</td>\n",
       "    </tr>\n",
       "  </tbody>\n",
       "</table>\n",
       "</div>"
      ],
      "text/plain": [
       "JP_Sales  J1  J2  J3  All\n",
       "NA_Sales                 \n",
       "A1        29  30   8   67\n",
       "A2        10   4   5   19\n",
       "A3         2   5   3   10\n",
       "All       41  39  16   96"
      ]
     },
     "execution_count": 8,
     "metadata": {},
     "output_type": "execute_result"
    }
   ],
   "source": [
    "crosstab_x3 = pd.crosstab(x1, x3, margins=True)\n",
    "crosstab_x3"
   ]
  },
  {
   "cell_type": "markdown",
   "metadata": {},
   "source": [
    "Так выглядит первый признак (продажи игр в США), для которого будем строить зависимости:"
   ]
  },
  {
   "cell_type": "code",
   "execution_count": 9,
   "metadata": {},
   "outputs": [
    {
     "data": {
      "text/plain": [
       "Wii Sports                                A3\n",
       "Super Mario Bros.                         A3\n",
       "Mario Kart Wii                            A3\n",
       "Wii Sports Resort                         A3\n",
       "Pokemon Red/Pokemon Blue                  A2\n",
       "                                          ..\n",
       "Crash Bandicoot 2: Cortex Strikes Back    A1\n",
       "Super Mario Bros. 2                       A1\n",
       "Super Smash Bros. for Wii U and 3DS       A1\n",
       "Call of Duty: World at War                A1\n",
       "Battlefield 3                             A1\n",
       "Name: NA_Sales, Length: 100, dtype: category\n",
       "Categories (3, object): ['A1' < 'A2' < 'A3']"
      ]
     },
     "execution_count": 9,
     "metadata": {},
     "output_type": "execute_result"
    }
   ],
   "source": [
    "x1"
   ]
  },
  {
   "cell_type": "markdown",
   "metadata": {},
   "source": [
    "Построим матрицы условных вероятностей для признаков (x1 от x2) и (x1 от x3):"
   ]
  },
  {
   "cell_type": "code",
   "execution_count": 10,
   "metadata": {},
   "outputs": [
    {
     "data": {
      "text/html": [
       "<div>\n",
       "<style scoped>\n",
       "    .dataframe tbody tr th:only-of-type {\n",
       "        vertical-align: middle;\n",
       "    }\n",
       "\n",
       "    .dataframe tbody tr th {\n",
       "        vertical-align: top;\n",
       "    }\n",
       "\n",
       "    .dataframe thead th {\n",
       "        text-align: right;\n",
       "    }\n",
       "</style>\n",
       "<table border=\"1\" class=\"dataframe\">\n",
       "  <thead>\n",
       "    <tr style=\"text-align: right;\">\n",
       "      <th>EU_Sales</th>\n",
       "      <th>E1</th>\n",
       "      <th>E2</th>\n",
       "      <th>E3</th>\n",
       "      <th>All</th>\n",
       "    </tr>\n",
       "    <tr>\n",
       "      <th>NA_Sales</th>\n",
       "      <th></th>\n",
       "      <th></th>\n",
       "      <th></th>\n",
       "      <th></th>\n",
       "    </tr>\n",
       "  </thead>\n",
       "  <tbody>\n",
       "    <tr>\n",
       "      <th>A1</th>\n",
       "      <td>0.25</td>\n",
       "      <td>0.82</td>\n",
       "      <td>0.08</td>\n",
       "      <td>0.7</td>\n",
       "    </tr>\n",
       "    <tr>\n",
       "      <th>A2</th>\n",
       "      <td>0.50</td>\n",
       "      <td>0.13</td>\n",
       "      <td>0.54</td>\n",
       "      <td>0.2</td>\n",
       "    </tr>\n",
       "    <tr>\n",
       "      <th>A3</th>\n",
       "      <td>0.25</td>\n",
       "      <td>0.05</td>\n",
       "      <td>0.38</td>\n",
       "      <td>0.1</td>\n",
       "    </tr>\n",
       "    <tr>\n",
       "      <th>All</th>\n",
       "      <td>1.00</td>\n",
       "      <td>1.00</td>\n",
       "      <td>1.00</td>\n",
       "      <td>1.0</td>\n",
       "    </tr>\n",
       "  </tbody>\n",
       "</table>\n",
       "</div>"
      ],
      "text/plain": [
       "EU_Sales    E1    E2    E3  All\n",
       "NA_Sales                       \n",
       "A1        0.25  0.82  0.08  0.7\n",
       "A2        0.50  0.13  0.54  0.2\n",
       "A3        0.25  0.05  0.38  0.1\n",
       "All       1.00  1.00  1.00  1.0"
      ]
     },
     "execution_count": 10,
     "metadata": {},
     "output_type": "execute_result"
    }
   ],
   "source": [
    "np.divide(crosstab_x2, crosstab_x2[-1:]).round(2)"
   ]
  },
  {
   "cell_type": "markdown",
   "metadata": {},
   "source": [
    "Из таблицы видно, что при E2 с большой вероятностью будет верно __A1: E2 -> A1__. Выходит, что при умеренном количестве продаж в Европе, в США продажи вероятно будут сниженными, однако если смотреть именно на количество, то оно примерно одинаковое.\n",
    "\n",
    "Также видим, что __E3 -> not A1__. То есть, если в Европе продажи повышенные, то в США совсем с маленькой вероятностью они будут пониженными. Можно ещё выделить, что __E2 -> not A3__: умеренные продажи в Европе, скорее, показывают, что повышенные продажи в США будут отсутствовать."
   ]
  },
  {
   "cell_type": "code",
   "execution_count": 11,
   "metadata": {},
   "outputs": [
    {
     "data": {
      "text/html": [
       "<div>\n",
       "<style scoped>\n",
       "    .dataframe tbody tr th:only-of-type {\n",
       "        vertical-align: middle;\n",
       "    }\n",
       "\n",
       "    .dataframe tbody tr th {\n",
       "        vertical-align: top;\n",
       "    }\n",
       "\n",
       "    .dataframe thead th {\n",
       "        text-align: right;\n",
       "    }\n",
       "</style>\n",
       "<table border=\"1\" class=\"dataframe\">\n",
       "  <thead>\n",
       "    <tr style=\"text-align: right;\">\n",
       "      <th>JP_Sales</th>\n",
       "      <th>J1</th>\n",
       "      <th>J2</th>\n",
       "      <th>J3</th>\n",
       "      <th>All</th>\n",
       "    </tr>\n",
       "    <tr>\n",
       "      <th>NA_Sales</th>\n",
       "      <th></th>\n",
       "      <th></th>\n",
       "      <th></th>\n",
       "      <th></th>\n",
       "    </tr>\n",
       "  </thead>\n",
       "  <tbody>\n",
       "    <tr>\n",
       "      <th>A1</th>\n",
       "      <td>0.71</td>\n",
       "      <td>0.77</td>\n",
       "      <td>0.50</td>\n",
       "      <td>0.7</td>\n",
       "    </tr>\n",
       "    <tr>\n",
       "      <th>A2</th>\n",
       "      <td>0.24</td>\n",
       "      <td>0.10</td>\n",
       "      <td>0.31</td>\n",
       "      <td>0.2</td>\n",
       "    </tr>\n",
       "    <tr>\n",
       "      <th>A3</th>\n",
       "      <td>0.05</td>\n",
       "      <td>0.13</td>\n",
       "      <td>0.19</td>\n",
       "      <td>0.1</td>\n",
       "    </tr>\n",
       "    <tr>\n",
       "      <th>All</th>\n",
       "      <td>1.00</td>\n",
       "      <td>1.00</td>\n",
       "      <td>1.00</td>\n",
       "      <td>1.0</td>\n",
       "    </tr>\n",
       "  </tbody>\n",
       "</table>\n",
       "</div>"
      ],
      "text/plain": [
       "JP_Sales    J1    J2    J3  All\n",
       "NA_Sales                       \n",
       "A1        0.71  0.77  0.50  0.7\n",
       "A2        0.24  0.10  0.31  0.2\n",
       "A3        0.05  0.13  0.19  0.1\n",
       "All       1.00  1.00  1.00  1.0"
      ]
     },
     "execution_count": 11,
     "metadata": {},
     "output_type": "execute_result"
    }
   ],
   "source": [
    "np.divide(crosstab_x3, crosstab_x3[-1:]).round(2)"
   ]
  },
  {
   "cell_type": "markdown",
   "metadata": {},
   "source": [
    "__J2 -> A1; J1 -> A1__: пониженные или умеренные продажи в Японии с большой вероятностью указывают на то, что в США тоже будет небольшое количество продаж.\n",
    "\n",
    "__J1 -> not A3__: если в Японии мало продаж, то в США с большой вероятностью не будет их в повышенном количестве."
   ]
  },
  {
   "cell_type": "code",
   "execution_count": 12,
   "metadata": {},
   "outputs": [],
   "source": [
    "relfreq_x2 = pd.crosstab(x1, x2, margins=True, normalize=True)\n",
    "relfreq_x3 = pd.crosstab(x1, x3, margins=True, normalize=True)\n",
    "\n",
    "relfreq_indep_x2 = np.dot(\n",
    "    relfreq_x2.iloc[:, -1].values[:, None],\n",
    "    relfreq_x2.iloc[-1, :].values[None, :],\n",
    ")\n",
    "\n",
    "relfreq_indep_x3 = np.dot(\n",
    "    relfreq_x3.iloc[:, -1].values[:, None],\n",
    "    relfreq_x3.iloc[-1, :].values[None, :],\n",
    ")"
   ]
  },
  {
   "cell_type": "markdown",
   "metadata": {},
   "source": [
    "Матрица индексов Кетле __в процентах__ для признака х2:"
   ]
  },
  {
   "cell_type": "code",
   "execution_count": 27,
   "metadata": {},
   "outputs": [
    {
     "data": {
      "text/html": [
       "<div>\n",
       "<style scoped>\n",
       "    .dataframe tbody tr th:only-of-type {\n",
       "        vertical-align: middle;\n",
       "    }\n",
       "\n",
       "    .dataframe tbody tr th {\n",
       "        vertical-align: top;\n",
       "    }\n",
       "\n",
       "    .dataframe thead th {\n",
       "        text-align: right;\n",
       "    }\n",
       "</style>\n",
       "<table border=\"1\" class=\"dataframe\">\n",
       "  <thead>\n",
       "    <tr style=\"text-align: right;\">\n",
       "      <th>EU_Sales</th>\n",
       "      <th>E1</th>\n",
       "      <th>E2</th>\n",
       "      <th>E3</th>\n",
       "    </tr>\n",
       "    <tr>\n",
       "      <th>NA_Sales</th>\n",
       "      <th></th>\n",
       "      <th></th>\n",
       "      <th></th>\n",
       "    </tr>\n",
       "  </thead>\n",
       "  <tbody>\n",
       "    <tr>\n",
       "      <th>A1</th>\n",
       "      <td>-64.0</td>\n",
       "      <td>17.0</td>\n",
       "      <td>-89.0</td>\n",
       "    </tr>\n",
       "    <tr>\n",
       "      <th>A2</th>\n",
       "      <td>150.0</td>\n",
       "      <td>-34.0</td>\n",
       "      <td>169.0</td>\n",
       "    </tr>\n",
       "    <tr>\n",
       "      <th>A3</th>\n",
       "      <td>150.0</td>\n",
       "      <td>-52.0</td>\n",
       "      <td>285.0</td>\n",
       "    </tr>\n",
       "  </tbody>\n",
       "</table>\n",
       "</div>"
      ],
      "text/plain": [
       "EU_Sales     E1    E2     E3\n",
       "NA_Sales                    \n",
       "A1        -64.0  17.0  -89.0\n",
       "A2        150.0 -34.0  169.0\n",
       "A3        150.0 -52.0  285.0"
      ]
     },
     "execution_count": 27,
     "metadata": {},
     "output_type": "execute_result"
    }
   ],
   "source": [
    "quetelet_x2 = relfreq_x2 / relfreq_indep_x2 - 1\n",
    "quetelet_x2 = quetelet_x2.iloc[:-1, :-1].round(2)\n",
    "quetelet_x2*100"
   ]
  },
  {
   "cell_type": "markdown",
   "metadata": {},
   "source": [
    "Из неё видно, что при __E1 -> A2__, A3 на 150% чаще, чем в среднем. Очень интересно, что при низких продажах в Европе большое количество продаж в США встречается чаще, чем обычно.\n",
    "\n",
    "Также видим, что __E3 -> A3__: это уже вполне логично, что при очень больших продажах в Европе почти гарантированы большие продажи в США."
   ]
  },
  {
   "cell_type": "markdown",
   "metadata": {},
   "source": [
    "Матрица индексов Кетле __в процентах__ для признака х3:"
   ]
  },
  {
   "cell_type": "code",
   "execution_count": 14,
   "metadata": {
    "scrolled": true
   },
   "outputs": [
    {
     "data": {
      "text/html": [
       "<div>\n",
       "<style scoped>\n",
       "    .dataframe tbody tr th:only-of-type {\n",
       "        vertical-align: middle;\n",
       "    }\n",
       "\n",
       "    .dataframe tbody tr th {\n",
       "        vertical-align: top;\n",
       "    }\n",
       "\n",
       "    .dataframe thead th {\n",
       "        text-align: right;\n",
       "    }\n",
       "</style>\n",
       "<table border=\"1\" class=\"dataframe\">\n",
       "  <thead>\n",
       "    <tr style=\"text-align: right;\">\n",
       "      <th>JP_Sales</th>\n",
       "      <th>J1</th>\n",
       "      <th>J2</th>\n",
       "      <th>J3</th>\n",
       "    </tr>\n",
       "    <tr>\n",
       "      <th>NA_Sales</th>\n",
       "      <th></th>\n",
       "      <th></th>\n",
       "      <th></th>\n",
       "    </tr>\n",
       "  </thead>\n",
       "  <tbody>\n",
       "    <tr>\n",
       "      <th>A1</th>\n",
       "      <td>1.0</td>\n",
       "      <td>10.0</td>\n",
       "      <td>-28.0</td>\n",
       "    </tr>\n",
       "    <tr>\n",
       "      <th>A2</th>\n",
       "      <td>23.0</td>\n",
       "      <td>-48.0</td>\n",
       "      <td>58.0</td>\n",
       "    </tr>\n",
       "    <tr>\n",
       "      <th>A3</th>\n",
       "      <td>-53.0</td>\n",
       "      <td>23.0</td>\n",
       "      <td>80.0</td>\n",
       "    </tr>\n",
       "  </tbody>\n",
       "</table>\n",
       "</div>"
      ],
      "text/plain": [
       "JP_Sales    J1    J2    J3\n",
       "NA_Sales                  \n",
       "A1         1.0  10.0 -28.0\n",
       "A2        23.0 -48.0  58.0\n",
       "A3       -53.0  23.0  80.0"
      ]
     },
     "execution_count": 14,
     "metadata": {},
     "output_type": "execute_result"
    }
   ],
   "source": [
    "quetelet_x3 = relfreq_x3 / relfreq_indep_x3 - 1\n",
    "quetelet_x3 = quetelet_x3.iloc[:-1, :-1].round(2)\n",
    "quetelet_x3*100"
   ]
  },
  {
   "cell_type": "markdown",
   "metadata": {},
   "source": [
    "__J3 -> A3__, то есть при повышенных продажах в Японии на 80% чаще будут больше продажи в США, чем в среднем. Это действительно не было видно из матрицы с условными вероятностями."
   ]
  },
  {
   "cell_type": "markdown",
   "metadata": {},
   "source": [
    "Посчитаем средние индексы Кетле:"
   ]
  },
  {
   "cell_type": "code",
   "execution_count": 28,
   "metadata": {},
   "outputs": [
    {
     "name": "stdout",
     "output_type": "stream",
     "text": [
      "В среднем, знание признака x2 помогает определить признак х1 точнее на 34.79%\n"
     ]
    }
   ],
   "source": [
    "Q_x2 = np.sum((relfreq_x2.iloc[:-1, :-1] * quetelet_x2).values).round(4) * 100\n",
    "print(\"В среднем, знание признака x2 помогает определить признак х1 точнее на \" + str(Q_x2) + \"%\")"
   ]
  },
  {
   "cell_type": "code",
   "execution_count": 29,
   "metadata": {},
   "outputs": [
    {
     "name": "stdout",
     "output_type": "stream",
     "text": [
      "В среднем, знание признака x3 помогает определить признак х1 точнее на 7.1%\n"
     ]
    }
   ],
   "source": [
    "Q_x3 = np.sum((relfreq_x3.iloc[:-1, :-1] * quetelet_x3).values).round(4) * 100\n",
    "print(\"В среднем, знание признака x3 помогает определить признак х1 точнее на \" + str(Q_x3) + \"%\")"
   ]
  },
  {
   "cell_type": "markdown",
   "metadata": {},
   "source": [
    "Можно сделать вывод, что продажи игр в Европе сильнее связаны с продажами игр в США, чем продажи игр в Японии. Это вполне верно, потому что рынок Японии в некоторой степени специфичен. В Японии большим спросом пользуются игры, непопулярные в США и Европе, а также иногда и другие жанры. Более того, не все игры сразу начинают продавать по всех регионах, иногда может быть задержка, которая снижает количество покупок."
   ]
  },
  {
   "cell_type": "markdown",
   "metadata": {},
   "source": [
    "Посчитаем значения коэффициента __хи-квадрат__ для таблиц:"
   ]
  },
  {
   "cell_type": "code",
   "execution_count": 17,
   "metadata": {},
   "outputs": [],
   "source": [
    "h_x2 = ((relfreq_x2 - relfreq_indep_x2)**2 / relfreq_indep_x2).iloc[:-1, :-1]"
   ]
  },
  {
   "cell_type": "code",
   "execution_count": 18,
   "metadata": {},
   "outputs": [
    {
     "data": {
      "text/plain": [
       "0.3485"
      ]
     },
     "execution_count": 18,
     "metadata": {},
     "output_type": "execute_result"
    }
   ],
   "source": [
    "np.sum(h_x2.values).round(4)"
   ]
  },
  {
   "cell_type": "markdown",
   "metadata": {},
   "source": [
    "Возьмём модуль разницы. Видим, что разница незначительная:"
   ]
  },
  {
   "cell_type": "code",
   "execution_count": 23,
   "metadata": {},
   "outputs": [
    {
     "data": {
      "text/plain": [
       "5.551115123125783e-17"
      ]
     },
     "execution_count": 23,
     "metadata": {},
     "output_type": "execute_result"
    }
   ],
   "source": [
    "np.abs(Q_x2 / 100 - np.sum(h_x2.values).round(4))"
   ]
  },
  {
   "cell_type": "markdown",
   "metadata": {},
   "source": [
    "С признаком х3 видим, что разница тоже маленькая:"
   ]
  },
  {
   "cell_type": "code",
   "execution_count": 32,
   "metadata": {},
   "outputs": [],
   "source": [
    "h_x3 = ((relfreq_x3 - relfreq_indep_x3)**2 / relfreq_indep_x3).iloc[:-1, :-1]"
   ]
  },
  {
   "cell_type": "code",
   "execution_count": 33,
   "metadata": {},
   "outputs": [
    {
     "data": {
      "text/plain": [
       "0.0726"
      ]
     },
     "execution_count": 33,
     "metadata": {},
     "output_type": "execute_result"
    }
   ],
   "source": [
    "np.sum(h_x3.values).round(4)"
   ]
  },
  {
   "cell_type": "code",
   "execution_count": 21,
   "metadata": {},
   "outputs": [
    {
     "data": {
      "text/plain": [
       "0.0016000000000000042"
      ]
     },
     "execution_count": 21,
     "metadata": {},
     "output_type": "execute_result"
    }
   ],
   "source": [
    "np.abs(Q_x3 / 100 - np.sum(h_x3.values).round(4))"
   ]
  },
  {
   "cell_type": "markdown",
   "metadata": {},
   "source": [
    "Они должны быть равны, но незначительно отличаются, так как я округлял значения в разные моменты для удобства интерпретации."
   ]
  }
 ],
 "metadata": {
  "kernelspec": {
   "display_name": "projectname",
   "language": "python",
   "name": "projectname"
  },
  "language_info": {
   "codemirror_mode": {
    "name": "ipython",
    "version": 3
   },
   "file_extension": ".py",
   "mimetype": "text/x-python",
   "name": "python",
   "nbconvert_exporter": "python",
   "pygments_lexer": "ipython3",
   "version": "3.8.5"
  }
 },
 "nbformat": 4,
 "nbformat_minor": 4
}
