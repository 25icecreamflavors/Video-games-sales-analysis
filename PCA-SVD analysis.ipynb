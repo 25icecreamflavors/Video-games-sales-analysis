{
 "cells": [
  {
   "cell_type": "markdown",
   "metadata": {},
   "source": [
    "<center><h3> Домашнее задание 5: Метод главных компонент для визуализации\n",
    "данных </h3></center>"
   ]
  },
  {
   "cell_type": "code",
   "execution_count": 541,
   "metadata": {},
   "outputs": [],
   "source": [
    "import numpy as np\n",
    "import pandas as pd\n",
    "import matplotlib.pyplot as plt"
   ]
  },
  {
   "cell_type": "markdown",
   "metadata": {},
   "source": [
    "Выберем признаки, которые относятся к одному аспекту: уровню продаж в различных регионах мира."
   ]
  },
  {
   "cell_type": "code",
   "execution_count": 542,
   "metadata": {},
   "outputs": [
    {
     "data": {
      "text/html": [
       "<div>\n",
       "<style scoped>\n",
       "    .dataframe tbody tr th:only-of-type {\n",
       "        vertical-align: middle;\n",
       "    }\n",
       "\n",
       "    .dataframe tbody tr th {\n",
       "        vertical-align: top;\n",
       "    }\n",
       "\n",
       "    .dataframe thead th {\n",
       "        text-align: right;\n",
       "    }\n",
       "</style>\n",
       "<table border=\"1\" class=\"dataframe\">\n",
       "  <thead>\n",
       "    <tr style=\"text-align: right;\">\n",
       "      <th></th>\n",
       "      <th>NA_Sales</th>\n",
       "      <th>EU_Sales</th>\n",
       "      <th>JP_Sales</th>\n",
       "      <th>Other_Sales</th>\n",
       "    </tr>\n",
       "  </thead>\n",
       "  <tbody>\n",
       "    <tr>\n",
       "      <th>Wii Sports</th>\n",
       "      <td>41.49</td>\n",
       "      <td>29.02</td>\n",
       "      <td>3.77</td>\n",
       "      <td>8.46</td>\n",
       "    </tr>\n",
       "    <tr>\n",
       "      <th>Super Mario Bros.</th>\n",
       "      <td>29.08</td>\n",
       "      <td>3.58</td>\n",
       "      <td>6.81</td>\n",
       "      <td>0.77</td>\n",
       "    </tr>\n",
       "    <tr>\n",
       "      <th>Mario Kart Wii</th>\n",
       "      <td>15.85</td>\n",
       "      <td>12.88</td>\n",
       "      <td>3.79</td>\n",
       "      <td>3.31</td>\n",
       "    </tr>\n",
       "    <tr>\n",
       "      <th>Wii Sports Resort</th>\n",
       "      <td>15.75</td>\n",
       "      <td>11.01</td>\n",
       "      <td>3.28</td>\n",
       "      <td>2.96</td>\n",
       "    </tr>\n",
       "    <tr>\n",
       "      <th>Pokemon Red/Pokemon Blue</th>\n",
       "      <td>11.27</td>\n",
       "      <td>8.89</td>\n",
       "      <td>10.22</td>\n",
       "      <td>1.00</td>\n",
       "    </tr>\n",
       "    <tr>\n",
       "      <th>...</th>\n",
       "      <td>...</td>\n",
       "      <td>...</td>\n",
       "      <td>...</td>\n",
       "      <td>...</td>\n",
       "    </tr>\n",
       "    <tr>\n",
       "      <th>Crash Bandicoot 2: Cortex Strikes Back</th>\n",
       "      <td>3.78</td>\n",
       "      <td>2.17</td>\n",
       "      <td>1.31</td>\n",
       "      <td>0.31</td>\n",
       "    </tr>\n",
       "    <tr>\n",
       "      <th>Super Mario Bros. 2</th>\n",
       "      <td>5.39</td>\n",
       "      <td>1.18</td>\n",
       "      <td>0.70</td>\n",
       "      <td>0.19</td>\n",
       "    </tr>\n",
       "    <tr>\n",
       "      <th>Super Smash Bros. for Wii U and 3DS</th>\n",
       "      <td>3.24</td>\n",
       "      <td>1.35</td>\n",
       "      <td>2.42</td>\n",
       "      <td>0.43</td>\n",
       "    </tr>\n",
       "    <tr>\n",
       "      <th>Call of Duty: World at War</th>\n",
       "      <td>4.79</td>\n",
       "      <td>1.90</td>\n",
       "      <td>0.00</td>\n",
       "      <td>0.69</td>\n",
       "    </tr>\n",
       "    <tr>\n",
       "      <th>Battlefield 3</th>\n",
       "      <td>4.46</td>\n",
       "      <td>2.13</td>\n",
       "      <td>0.06</td>\n",
       "      <td>0.69</td>\n",
       "    </tr>\n",
       "  </tbody>\n",
       "</table>\n",
       "<p>100 rows × 4 columns</p>\n",
       "</div>"
      ],
      "text/plain": [
       "                                        NA_Sales  EU_Sales  JP_Sales  \\\n",
       "Wii Sports                                 41.49     29.02      3.77   \n",
       "Super Mario Bros.                          29.08      3.58      6.81   \n",
       "Mario Kart Wii                             15.85     12.88      3.79   \n",
       "Wii Sports Resort                          15.75     11.01      3.28   \n",
       "Pokemon Red/Pokemon Blue                   11.27      8.89     10.22   \n",
       "...                                          ...       ...       ...   \n",
       "Crash Bandicoot 2: Cortex Strikes Back      3.78      2.17      1.31   \n",
       "Super Mario Bros. 2                         5.39      1.18      0.70   \n",
       "Super Smash Bros. for Wii U and 3DS         3.24      1.35      2.42   \n",
       "Call of Duty: World at War                  4.79      1.90      0.00   \n",
       "Battlefield 3                               4.46      2.13      0.06   \n",
       "\n",
       "                                        Other_Sales  \n",
       "Wii Sports                                     8.46  \n",
       "Super Mario Bros.                              0.77  \n",
       "Mario Kart Wii                                 3.31  \n",
       "Wii Sports Resort                              2.96  \n",
       "Pokemon Red/Pokemon Blue                       1.00  \n",
       "...                                             ...  \n",
       "Crash Bandicoot 2: Cortex Strikes Back         0.31  \n",
       "Super Mario Bros. 2                            0.19  \n",
       "Super Smash Bros. for Wii U and 3DS            0.43  \n",
       "Call of Duty: World at War                     0.69  \n",
       "Battlefield 3                                  0.69  \n",
       "\n",
       "[100 rows x 4 columns]"
      ]
     },
     "execution_count": 542,
     "metadata": {},
     "output_type": "execute_result"
    }
   ],
   "source": [
    "data = pd.read_csv(\"games.csv\")\n",
    "data = data.set_index(\"Name\")\n",
    "data.index.name = None\n",
    "data.drop(columns=[\"Rank\", \"Platform\", \"Year\", \"Genre\", \"Publisher\", \"Global_Sales\"], inplace=True)\n",
    "data"
   ]
  },
  {
   "cell_type": "code",
   "execution_count": 543,
   "metadata": {},
   "outputs": [],
   "source": [
    "mean = np.mean(data.values, axis=0)\n",
    "std = np.std(data.values, axis=0)\n",
    "rng = np.ptp(data.values, axis=0)"
   ]
  },
  {
   "cell_type": "code",
   "execution_count": 544,
   "metadata": {},
   "outputs": [],
   "source": [
    "X_zscore = (data - data.mean()) / data.std() # Z-scoring\n",
    "X_range = (data - data.mean()) / (data.max() - data.min()) # range normalization"
   ]
  },
  {
   "cell_type": "markdown",
   "metadata": {},
   "source": [
    "__МГК для данных, стандартизированных с помощью z-scoring:__"
   ]
  },
  {
   "cell_type": "code",
   "execution_count": 545,
   "metadata": {},
   "outputs": [],
   "source": [
    "uz, sz, vhz = np.linalg.svd(X_zscore)"
   ]
  },
  {
   "cell_type": "markdown",
   "metadata": {},
   "source": [
    "Посчитаем разброс данных:"
   ]
  },
  {
   "cell_type": "code",
   "execution_count": 546,
   "metadata": {},
   "outputs": [
    {
     "data": {
      "text/plain": [
       "396.0000000000001"
      ]
     },
     "execution_count": 546,
     "metadata": {},
     "output_type": "execute_result"
    }
   ],
   "source": [
    "data_scatter = np.sum((X_zscore**2).values)\n",
    "data_scatter"
   ]
  },
  {
   "cell_type": "markdown",
   "metadata": {},
   "source": [
    "Найдём вклад каждой компоненты:"
   ]
  },
  {
   "cell_type": "code",
   "execution_count": 547,
   "metadata": {},
   "outputs": [
    {
     "data": {
      "text/plain": [
       "array([0.51, 0.26, 0.14, 0.09])"
      ]
     },
     "execution_count": 547,
     "metadata": {},
     "output_type": "execute_result"
    }
   ],
   "source": [
    "contributions = sz**2 / data_scatter\n",
    "contributions.round(2)"
   ]
  },
  {
   "cell_type": "markdown",
   "metadata": {},
   "source": [
    "Видим, что две компоненты покрывают 77% разброса данных"
   ]
  },
  {
   "cell_type": "code",
   "execution_count": 548,
   "metadata": {},
   "outputs": [],
   "source": [
    "uz0 = -uz[:, 0]\n",
    "vhz0 = -vhz[0]\n",
    "vhz1 = vhz[1]\n",
    "uz1 = uz[:, 1]"
   ]
  },
  {
   "cell_type": "code",
   "execution_count": 549,
   "metadata": {},
   "outputs": [
    {
     "data": {
      "image/png": "[encoded data removed]",
      "text/plain": [
       "<Figure size 432x288 with 1 Axes>"
      ]
     },
     "metadata": {
      "needs_background": "light"
     },
     "output_type": "display_data"
    }
   ],
   "source": [
    "plt.scatter(uz0, uz1)\n",
    "plt.scatter(uz0[X_zscore.iloc[:, 2].values > 0], uz1[X_zscore.iloc[:, 2].values > 0])\n",
    "plt.title('PCA of Z-score standardized data')\n",
    "plt.show()"
   ]
  },
  {
   "cell_type": "markdown",
   "metadata": {},
   "source": [
    "Мы выделили группы объектов (выбрали 3 признак), у которых в Японии продажи были выше среднео и ниже среднего. Видим, что объекты сильно отделяются по первой компоненте: снизу игры, которые имели плохой спрос в США, Европе. Снизу игры, которые пользовались высоким спросом в Японии."
   ]
  },
  {
   "cell_type": "markdown",
   "metadata": {},
   "source": [
    "По остальным признакам нет такого чёткого разделения, там принимают участие обе компоненты."
   ]
  },
  {
   "cell_type": "code",
   "execution_count": 550,
   "metadata": {},
   "outputs": [
    {
     "name": "stdout",
     "output_type": "stream",
     "text": [
      "[0.56571236 0.61109363 0.27313575 0.48159211]\n",
      "[ 0.08056873 -0.03199336  0.84240935 -0.53181914]\n"
     ]
    }
   ],
   "source": [
    "print(vhz0)\n",
    "print(vhz1)"
   ]
  },
  {
   "cell_type": "markdown",
   "metadata": {},
   "source": [
    "Интерпретация: \n",
    "\n",
    "1-ая главная компонента показывает игры, имеющие успешные продажи в США, Европе и других регионах (не включающие Японию). Можно назвать это уровнем европеизированности игры.\n",
    "\n",
    "2-ая главная компонента показывает игры, которые пользуются популярностью в Японии, но почти не имеют успеха в Европе и других регионах. Соответственно, она показывает уровень подготовленности игры к японскому рынку или же азиатские игры. "
   ]
  },
  {
   "cell_type": "markdown",
   "metadata": {},
   "source": [
    "__МГК для данных, стандартизированных размахом:__"
   ]
  },
  {
   "cell_type": "code",
   "execution_count": 551,
   "metadata": {},
   "outputs": [
    {
     "data": {
      "text/plain": [
       "array([0.48, 0.33, 0.13, 0.06])"
      ]
     },
     "execution_count": 551,
     "metadata": {},
     "output_type": "execute_result"
    }
   ],
   "source": [
    "ur, sr, vhr = np.linalg.svd(X_range)\n",
    "data_scatter = np.sum((X_range**2).values)\n",
    "contributions = sr**2 / data_scatter\n",
    "contributions.round(2)"
   ]
  },
  {
   "cell_type": "markdown",
   "metadata": {},
   "source": [
    "В этом случае две главные компоненты покрывают 81% разброса данных"
   ]
  },
  {
   "cell_type": "code",
   "execution_count": 552,
   "metadata": {},
   "outputs": [
    {
     "name": "stdout",
     "output_type": "stream",
     "text": [
      "[0.43545209 0.35902739 0.79247141 0.23123553]\n",
      "[ 0.38307404  0.34592079 -0.55705252  0.65060401]\n"
     ]
    }
   ],
   "source": [
    "print(-vhr[0])\n",
    "print(vhr[1])"
   ]
  },
  {
   "cell_type": "markdown",
   "metadata": {},
   "source": [
    "В данном случае 1-ая компонента показывает игры, у которых везде относительно успешные продажи, но при этом они пользуются в Японии большим спросом. То есть, эта компонента является уровнем лояльности японцев к игре.\n",
    "\n",
    "2-ая компонента показывает игры, которые пользуются спросом в США, Европе (и других регионах), но не пользуются спросом в Японии. Можно снова это назвать уровнем европеизированности игры или подготовленности игры к европейскому рынку."
   ]
  },
  {
   "cell_type": "code",
   "execution_count": 553,
   "metadata": {},
   "outputs": [],
   "source": [
    "ur0 = -ur[:, 0]\n",
    "ur1 = ur[:, 1]"
   ]
  },
  {
   "cell_type": "code",
   "execution_count": 554,
   "metadata": {},
   "outputs": [
    {
     "data": {
      "image/png": "[encoded data removed]",
      "text/plain": [
       "<Figure size 432x288 with 1 Axes>"
      ]
     },
     "metadata": {
      "needs_background": "light"
     },
     "output_type": "display_data"
    }
   ],
   "source": [
    "plt.scatter(ur0, ur1)\n",
    "plt.scatter(ur0[X_range.iloc[:, 2].values > 0.3], ur1[X_range.iloc[:, 2].values > 0.3], marker='s')\n",
    "plt.title(\"PCA of range standardatized data\")\n",
    "plt.show()"
   ]
  },
  {
   "cell_type": "markdown",
   "metadata": {},
   "source": [
    "На данном примере квадратами выделены игры, которые имели повышенный спрос в Японии. Объекты разделены наклонной прямой, то есть здесь принимали участие обе главные компоненты: первая показывала повышенную популярность в Японии, вторая указывала на присутствие/отсутствие неуспеха в Японии."
   ]
  },
  {
   "cell_type": "markdown",
   "metadata": {},
   "source": [
    "__Традиционный метод МГК__"
   ]
  },
  {
   "cell_type": "code",
   "execution_count": 555,
   "metadata": {},
   "outputs": [],
   "source": [
    "N = X_zscore.shape[0]"
   ]
  },
  {
   "cell_type": "code",
   "execution_count": 556,
   "metadata": {},
   "outputs": [
    {
     "data": {
      "text/plain": [
       "array([2.02374141, 0.37215205, 0.53487716, 1.02922937])"
      ]
     },
     "execution_count": 556,
     "metadata": {},
     "output_type": "execute_result"
    }
   ],
   "source": [
    "cov = np.dot(X_zscore.T, X_zscore) / N\n",
    "eigw, eigv = np.linalg.eig(cov)\n",
    "eigw"
   ]
  },
  {
   "cell_type": "markdown",
   "metadata": {},
   "source": [
    "Первое собственное значение самое большое, поэтому возьмём первый вектор:"
   ]
  },
  {
   "cell_type": "code",
   "execution_count": 557,
   "metadata": {},
   "outputs": [],
   "source": [
    "pca0 = np.dot(X_zscore, eigv[:, 0]) / np.sqrt(N * eigw[0])"
   ]
  },
  {
   "cell_type": "code",
   "execution_count": 558,
   "metadata": {},
   "outputs": [
    {
     "data": {
      "text/plain": [
       "array([-1.33226763e-15,  1.02922937e+00,  5.34877160e-01,  3.72152052e-01])"
      ]
     },
     "execution_count": 558,
     "metadata": {},
     "output_type": "execute_result"
    }
   ],
   "source": [
    "cov = cov - eigw[0] * eigv[:, 0][:, None] * eigv[:, 0]\n",
    "eigw, eigv = np.linalg.eig(cov)\n",
    "eigw"
   ]
  },
  {
   "cell_type": "markdown",
   "metadata": {},
   "source": [
    "Второе собственное значение максимальное, так что теперь возьмём второй вектор для поиска следующей главной компоненты:"
   ]
  },
  {
   "cell_type": "code",
   "execution_count": 559,
   "metadata": {},
   "outputs": [],
   "source": [
    "pca1 = np.dot(X_zscore, -eigv[:, 1]) / np.sqrt(N * eigw[1])"
   ]
  },
  {
   "cell_type": "code",
   "execution_count": 560,
   "metadata": {},
   "outputs": [
    {
     "data": {
      "image/png": "[encoded data removed]",
      "text/plain": [
       "<Figure size 432x288 with 1 Axes>"
      ]
     },
     "metadata": {
      "needs_background": "light"
     },
     "output_type": "display_data"
    }
   ],
   "source": [
    "plt.scatter(uz0, uz1, marker='*', label='SVD')\n",
    "plt.scatter(pca0, pca1, marker='.', label='covariance')\n",
    "plt.legend()\n",
    "plt.show()"
   ]
  },
  {
   "cell_type": "markdown",
   "metadata": {},
   "source": [
    "Видим, что результаты методов совпали: массивы одинаковые, на каждую звёздочку попадает точка."
   ]
  }
 ],
 "metadata": {
  "kernelspec": {
   "display_name": "projectname",
   "language": "python",
   "name": "projectname"
  },
  "language_info": {
   "codemirror_mode": {
    "name": "ipython",
    "version": 3
   },
   "file_extension": ".py",
   "mimetype": "text/x-python",
   "name": "python",
   "nbconvert_exporter": "python",
   "pygments_lexer": "ipython3",
   "version": "3.8.5"
  }
 },
 "nbformat": 4,
 "nbformat_minor": 4
}
